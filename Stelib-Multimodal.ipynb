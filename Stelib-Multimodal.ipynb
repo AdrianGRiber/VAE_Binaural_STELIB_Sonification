{
 "cells": [
  {
   "cell_type": "markdown",
   "id": "de0bcea7",
   "metadata": {},
   "source": [
    "# Stelib library multimodal exploration\n",
    "This notebook offers a multimodal sequential representation of the STELIB library, providing the coverage map of the library, the object represented, its coordinates, its original spectrum, and a sonification of the spectrum generated using a variational autoencoder to reduce the light flux variations into a six-note sinewave chord. The decoded spectrum is also included in the representation to provide an estimation of the accuracy for each object.\n",
    "\n",
    "Data download: http://svocats.cab.inta-csic.es/stelib/index.php?action=search\n",
    "#### ACKNOWLEDGMENT\n",
    "This work is based on data from the STELIB service developed by the Spanish Virtual Observatory in the framework of the IAU Comission G5 Working Group : Spectral Stellar Libraries."
   ]
  },
  {
   "cell_type": "code",
   "execution_count": null,
   "id": "f906689b",
   "metadata": {},
   "outputs": [],
   "source": [
    "from astropy.io import fits\n",
    "import matplotlib.pylab as plt\n",
    "import numpy as np\n",
    "\n",
    "import os\n",
    "from pathlib import Path\n",
    "\n",
    "import tensorflow as tf\n",
    "from tensorflow.keras import layers"
   ]
  },
  {
   "cell_type": "code",
   "execution_count": null,
   "id": "b390af2e",
   "metadata": {},
   "outputs": [],
   "source": [
    "root = '## YOUR FOLDER PATH TO THE DOWNLOADED SPECTRA ##'"
   ]
  },
  {
   "cell_type": "code",
   "execution_count": null,
   "id": "4a8071d4",
   "metadata": {},
   "outputs": [],
   "source": [
    "# adjust the path and name of one spectrum file to check the content\n",
    "file = \"## YOUR FOLDER PATH TO THE DOWNLOADED SPECTRA ##/stelib_spec_fits_HD268623_moy.fits\"#/Users/adrian/Documents/FITS_Library/Miles/miles_spec_fits_s0144.fits\"#input('Path and name of the fits-file: ')\n",
    "\n",
    "#   Header-Check Spectrum\n",
    "sp = fits.open(file)\n",
    "print('\\n\\nHeader of the spectrum :\\n\\n', sp[0].header, '\\n\\n')\n",
    "\n",
    "# Generation of arrays with the wavelengths and fluxes of the spectrum\n",
    "flux2 = np.array(sp[0].data)\n",
    "flux_norm = np.reshape(flux2/(np.nanmax(flux2)), (sp[0].header['NAXIS1']))\n",
    "\n",
    "\n",
    "wave2 = np.ones(sp[0].header['NAXIS1'], dtype=float)\n",
    "for i in range(sp[0].header['NAXIS1']):\n",
    "    wave2[i] = sp[0].header['CRVAL1'] + i*sp[0].header['CDELT1']\n",
    "# The list wave contains the wavelengths of the pixels.\n",
    "# In the list flux the corresponding intensities.\n",
    "\n",
    "#   Close the fits-file\n",
    "sp.close()\n",
    "# Plot the spectrum\n",
    "fig = plt.figure(1, figsize=(12, 8))\n",
    "plt.plot(wave2, flux_norm)\n",
    "plt.xlabel('Wavelength [Å]')\n",
    "plt.ylabel('ADU')\n",
    "plt.title(file)\n",
    "plt.show()"
   ]
  },
  {
   "cell_type": "code",
   "execution_count": null,
   "id": "90a8ac43",
   "metadata": {},
   "outputs": [],
   "source": [
    "num = 1\n",
    "dim1 = sp[0].header['NAXIS1']\n",
    "#dim2=1\n",
    "\n",
    "for path, subdirs, files in os.walk(root):\n",
    "    for nanme in files:\n",
    "        num += 1\n",
    "print(num)\n",
    "print(dim1)"
   ]
  },
  {
   "cell_type": "code",
   "execution_count": null,
   "id": "862eb610",
   "metadata": {},
   "outputs": [],
   "source": [
    "curves = 0\n",
    "custom_set = np.zeros((num, dim1))\n",
    "label_set = np.zeros((num, ), dtype=int)\n",
    "spectra_set = [''] * num \n",
    "\n",
    "for path, subdirs, files in os.walk(root):\n",
    "    for name in files:\n",
    "        file = [os.path.join(path, name)]\n",
    "        str = \" \" \n",
    "        Ffile = (str.join(file))\n",
    "        route = Path(name)\n",
    "        Fname = route.with_suffix('')\n",
    "        Fpng = route.with_suffix('.png')\n",
    "\n",
    "        data, header = fits.getdata(Ffile, header=True)\n",
    "        hdu_number = 0\n",
    "        fits.getheader(Ffile, hdu_number)\n",
    "        fits_file = Ffile\n",
    "        \n",
    "        with fits.open(fits_file, mode='readonly') as hdulist:\n",
    "            hdulist.info()\n",
    "            data = np.array(hdulist[0].data)\n",
    "             \n",
    "            data_norm = np.reshape(data/(np.nanmax(data)), (sp[0].header['NAXIS1']))\n",
    "\n",
    "            \n",
    "            label_set[curves] = curves \n",
    "            spectra_set[curves] = name\n",
    "            for i in range (dim1):\n",
    "                custom_set[curves,i] = (data_norm[i])\n",
    "        hdulist.close   \n",
    "        curves += 1\n",
    "               \n",
    "        print (\"Spectra loaded:\",curves+1, \"spectra\");\n"
   ]
  },
  {
   "cell_type": "code",
   "execution_count": null,
   "id": "f8f70a59",
   "metadata": {},
   "outputs": [],
   "source": [
    "custom_set.shape"
   ]
  },
  {
   "cell_type": "code",
   "execution_count": null,
   "id": "869479f5",
   "metadata": {},
   "outputs": [],
   "source": [
    "label_set.shape"
   ]
  },
  {
   "cell_type": "code",
   "execution_count": null,
   "id": "87f6c3ce",
   "metadata": {},
   "outputs": [],
   "source": [
    "vae6D = tf.keras.models.load_model('STELIB_6DVAE-augmented_OK.tf')"
   ]
  },
  {
   "cell_type": "code",
   "execution_count": null,
   "id": "f304b334",
   "metadata": {},
   "outputs": [],
   "source": [
    "vae6D.load_weights('STELIB_6DVAE-augmented_Weights')"
   ]
  },
  {
   "cell_type": "code",
   "execution_count": null,
   "id": "b032106b",
   "metadata": {},
   "outputs": [],
   "source": [
    "encoder = tf.keras.models.load_model('STELIB_6D_Encoder-augmented_OK.tf')"
   ]
  },
  {
   "cell_type": "code",
   "execution_count": null,
   "id": "8e5551e4",
   "metadata": {},
   "outputs": [],
   "source": [
    "decoder = tf.keras.models.load_model('STELIB_6D_Decoder-augmented_OK.tf')"
   ]
  },
  {
   "cell_type": "code",
   "execution_count": null,
   "id": "ee1fa557",
   "metadata": {},
   "outputs": [],
   "source": [
    "class Sampling(layers.Layer):\n",
    "    def call(self, inputs):\n",
    "        z_mean, z_log_var = inputs\n",
    "        batch = tf.shape(z_mean)[0]\n",
    "        dim = tf.shape(z_mean)[1]\n",
    "        epsilon = tf.keras.backend.random_normal(shape=(batch, dim), mean=0., stddev=0.1)\n",
    "        return z_mean + tf.exp(0.5 * z_log_var) * epsilon"
   ]
  },
  {
   "cell_type": "code",
   "execution_count": null,
   "id": "d7a24442",
   "metadata": {},
   "outputs": [],
   "source": [
    "optimizer = tf.keras.optimizers.Adam(learning_rate=1e-3)\n",
    "vae6D.compile(optimizer, loss=tf.keras.losses.MeanSquaredError())"
   ]
  },
  {
   "cell_type": "code",
   "execution_count": null,
   "id": "e07574a4",
   "metadata": {},
   "outputs": [],
   "source": [
    "encoded_spectra = encoder(custom_set)"
   ]
  },
  {
   "cell_type": "code",
   "execution_count": null,
   "id": "2f120a13",
   "metadata": {},
   "outputs": [],
   "source": [
    "decoded_spectra = vae6D(custom_set)"
   ]
  },
  {
   "cell_type": "code",
   "execution_count": null,
   "id": "24954d3d",
   "metadata": {},
   "outputs": [],
   "source": [
    "encoded_spectra.shape"
   ]
  },
  {
   "cell_type": "code",
   "execution_count": null,
   "id": "4fa53c80",
   "metadata": {},
   "outputs": [],
   "source": [
    "from sklearn.metrics import r2_score\n",
    "\n",
    "from urllib.parse import urlencode\n",
    "import aplpy\n",
    "\n",
    "from astroquery.simbad import Simbad                                                            \n",
    "from astropy.coordinates import SkyCoord\n",
    "import astropy.units as u"
   ]
  },
  {
   "cell_type": "markdown",
   "id": "ba97ca9d",
   "metadata": {},
   "source": [
    "## Exploring"
   ]
  },
  {
   "cell_type": "code",
   "execution_count": null,
   "id": "a325b1c9",
   "metadata": {},
   "outputs": [],
   "source": [
    "from sklearn.metrics import r2_score\n",
    "\n",
    "#from urllib.parse import urlencode\n",
    "from astroquery.simbad import Simbad                                                            \n",
    "from astropy.coordinates import SkyCoord\n",
    "import astropy.units as u\n",
    "\n",
    "import aplpy\n",
    "\n",
    "from pythonosc import udp_client\n",
    "import time"
   ]
  },
  {
   "cell_type": "code",
   "execution_count": null,
   "id": "e9095d71",
   "metadata": {},
   "outputs": [],
   "source": [
    "encoded_spectra.shape"
   ]
  },
  {
   "cell_type": "code",
   "execution_count": null,
   "id": "76126413",
   "metadata": {},
   "outputs": [],
   "source": [
    "encoded_spectra = np.squeeze(encoded_spectra)"
   ]
  },
  {
   "cell_type": "code",
   "execution_count": null,
   "id": "956846f7",
   "metadata": {},
   "outputs": [],
   "source": [
    "x = np.zeros((len(encoded_spectra), 6))"
   ]
  },
  {
   "cell_type": "code",
   "execution_count": null,
   "id": "65ce6685",
   "metadata": {},
   "outputs": [],
   "source": [
    "ra_stelib = []\n",
    "dec_stelib = []\n",
    "for j in range(len(encoded_spectra)-1):\n",
    "    \n",
    "    #   Opening FITS and getting coordinates\n",
    "    target = files[j]\n",
    "    file2 = root+\"/\"+target\n",
    "\n",
    "    sp2 = fits.open(file2)\n",
    "    print('\\n\\nHeader of the spectrum :\\n\\n', sp2[0].header, '\\n\\n')\n",
    "    ra_spectra = sp2[0].header['RA']\n",
    "    dec_spectra = sp2[0].header['DEC']\n",
    "    print(sp2[0].header['OBJECT'])   \n",
    "    sp2.close()\n",
    "#--------------------------------------            \n",
    "     #   Converting coordinates\n",
    "    try:\n",
    "        hours, minutes, seconds = ra_spectra.split(':')\n",
    "        ra_ok = f\"{hours}h{minutes}m{seconds}s\"\n",
    "        days, minutes, seconds = dec_spectra.split(':')\n",
    "        dec_ok = f\"{days}d{minutes}m{seconds}s\"\n",
    "        c = SkyCoord(ra_ok, dec_ok, frame='icrs')\n",
    "        ra_stelib.append(ra_ok)\n",
    "        dec_stelib.append(dec_ok)\n",
    "    except:\n",
    "        ra_ok = 0\n",
    "        dec_ok = 0\n",
    "        ra_stelib.append(ra_ok)\n",
    "        dec_stelib.append(dec_ok)\n",
    "\n",
    "  "
   ]
  },
  {
   "cell_type": "code",
   "execution_count": null,
   "id": "6b07ed89",
   "metadata": {
    "scrolled": true
   },
   "outputs": [],
   "source": [
    "coords = SkyCoord(ra_stelib,dec_stelib,frame='icrs',unit='deg')\n",
    "coords"
   ]
  },
  {
   "cell_type": "code",
   "execution_count": null,
   "id": "d0e9d0b4",
   "metadata": {},
   "outputs": [],
   "source": [
    "import warnings\n",
    "\n",
    "import pandas as pd\n",
    "import numpy as np\n",
    "#import pyvo\n",
    "import matplotlib.pyplot as plt\n",
    "from mocpy import MOC, World2ScreenMPL\n",
    "\n",
    "from astropy.coordinates import Angle, SkyCoord\n",
    "import astropy.units as u\n",
    "from astroquery.vizier import Vizier\n",
    "import plotly.express as px"
   ]
  },
  {
   "cell_type": "markdown",
   "id": "e74f70e6",
   "metadata": {},
   "source": [
    "## Stelib"
   ]
  },
  {
   "cell_type": "code",
   "execution_count": null,
   "id": "600abda2",
   "metadata": {},
   "outputs": [],
   "source": [
    "fig = plt.figure(111, figsize=(15,9))\n",
    "\n",
    "with World2ScreenMPL(fig, \n",
    "        fov=260* u.deg,\n",
    "        center=SkyCoord(0, 0, unit='deg', frame='icrs'),\n",
    "        coordsys=\"icrs\",\n",
    "        rotation=Angle(0, u.degree),\n",
    "        projection=\"AIT\") as wcs:\n",
    "    \n",
    "    ax = fig.add_subplot(1, 1, 1, projection=wcs)\n",
    "    \n",
    "  #  moc_sdssdr16.fill(ax=ax, wcs=wcs, alpha=0.15, fill=True, color='#003f5c',label='SDSS DR16')\n",
    "  #  moc_sdssdr16.border(ax=ax, wcs=wcs, alpha=0.4, color='#003f5c')\n",
    "    \n",
    " #   moc_jplusdr2.fill(ax=ax, wcs=wcs, alpha=0.4, fill=True, color=\"#ffa600\",label='J-PLUS DR2')\n",
    " #   moc_jplusdr2.border(ax=ax, wcs=wcs, alpha=0.6, color=\"#ffa600\")\n",
    "    \n",
    "    ax.scatter(coords.ra,coords.dec,marker='o',color='#1f82c0',s=18,transform=ax.get_transform('world'))\n",
    "\n",
    "ax.legend(fontsize=15)\n",
    "ax.set_xlabel('RA',fontsize=16)\n",
    "ax.set_ylabel('DEC',fontsize=16)\n",
    "plt.grid(color=\"black\", ls='dotted')\n",
    "\n",
    "plt.show()\n",
    "\n",
    "warnings.filterwarnings(\"ignore\", category=DeprecationWarning)"
   ]
  },
  {
   "cell_type": "code",
   "execution_count": null,
   "id": "887d2b7e",
   "metadata": {},
   "outputs": [],
   "source": []
  },
  {
   "cell_type": "code",
   "execution_count": null,
   "id": "6a297823",
   "metadata": {},
   "outputs": [],
   "source": [
    "from astropy.visualization.wcsaxes.frame import EllipticalFrame\n",
    "\n",
    "fig = plt.figure(figsize=(16,8))\n",
    "\n",
    "# Load the Epoch 1 MOC file to use\n",
    "#epoch1_moc = mocs.load_pilot_epoch_moc('1')\n",
    "\n",
    "# \n",
    "with World2ScreenMPL(\n",
    "    fig,\n",
    "    fov=320 * u.deg,\n",
    "    center=SkyCoord(0, 0, unit='deg', frame='icrs'),\n",
    "    coordsys=\"icrs\",\n",
    "    rotation=Angle(0, u.degree),\n",
    ") as wcs:\n",
    "    ax = fig.add_subplot(111, projection=wcs, frame_class=EllipticalFrame)\n",
    "    ax.set_title(\"STELIB library\")\n",
    "    ax.grid(color=\"black\", linestyle=\"dotted\")\n",
    "#    epoch1_moc.fill(ax=ax, wcs=wcs, alpha=0.5, fill=True, linewidth=0, color=\"#00bb00\")\n",
    " #   epoch1_moc.border(ax=ax, wcs=wcs, alpha=0.5, color=\"black\")\n",
    "    \n",
    "    ax.scatter(coords.ra,coords.dec,marker='o',color='#1f82c0',s=18,transform=ax.get_transform('world'),zorder=10)\n",
    "\n",
    "#    ax.scatter(\n",
    " #       veron_vast_sources['_RAJ2000'], \n",
    "  #      veron_vast_sources['_DEJ2000'], \n",
    "   #     transform=ax.get_transform('world'),\n",
    "    #    zorder=10,\n",
    "     #   s=3\n",
    "   # )\n",
    "\n",
    "#fig"
   ]
  },
  {
   "cell_type": "code",
   "execution_count": null,
   "id": "8d9a16dd",
   "metadata": {},
   "outputs": [],
   "source": []
  },
  {
   "cell_type": "code",
   "execution_count": null,
   "id": "d69d16b1",
   "metadata": {},
   "outputs": [],
   "source": [
    "moc_sdssdr3 = MOC.from_vizier_table('II/259/sdss3')\n",
    "moc_sdssdr6 = MOC.from_vizier_table('II/282/sdss6')\n",
    "moc_sdssdr16 = MOC.from_vizier_table('V/154/sdss16')"
   ]
  },
  {
   "cell_type": "code",
   "execution_count": null,
   "id": "48ef0f92",
   "metadata": {},
   "outputs": [],
   "source": [
    "fig = plt.figure(111,figsize=(15,9))\n",
    "\n",
    "with World2ScreenMPL(fig,\n",
    "                    fov = 340*u.deg,\n",
    "                    center=SkyCoord(0,0,unit='deg',frame='icrs'),\n",
    "                    coordsys='icrs', rotation=Angle(0, u.degree),\n",
    "                    projection='AIT') as wcs:\n",
    "    \n",
    "    ax = fig.add_subplot(1,1,1,projection=wcs)\n",
    "\n",
    "    moc_sdssdr16.fill(ax=ax, wcs=wcs, alpha=0.15, fill=True,color='#003f5c', label= 'SDSS DR16 (2020)')\n",
    "    moc_sdssdr16.border(ax=ax, wcs=wcs, alpha=0.4, color='#003f5c')   \n",
    "    \n",
    "    moc_sdssdr6.fill(ax=ax, wcs=wcs, alpha=0.4, fill=True, color='#ffa600', label='SDSS DR6 (2007)')\n",
    "    moc_sdssdr6.border(ax=ax, wcs=wcs, alpha=0.6, color='#ffa600')\n",
    "    \n",
    "    moc_sdssdr3.border(ax=ax, wcs=wcs, color='#a05195', lw=2, label='SDSS DR3 (2005)')\n",
    "\n",
    "ax.legend(fontsize=12)\n",
    "plt.grid(color='black', linestyle='dotted')\n",
    "\n",
    "plt.show()"
   ]
  },
  {
   "cell_type": "code",
   "execution_count": null,
   "id": "7c27996f",
   "metadata": {},
   "outputs": [],
   "source": []
  },
  {
   "cell_type": "code",
   "execution_count": null,
   "id": "f5e236e0",
   "metadata": {},
   "outputs": [],
   "source": []
  },
  {
   "cell_type": "code",
   "execution_count": null,
   "id": "4588789c",
   "metadata": {},
   "outputs": [],
   "source": [
    "moc_jplusdr2 = MOC.from_fits(\"jplus_dr2_moc.fits\")"
   ]
  },
  {
   "cell_type": "code",
   "execution_count": null,
   "id": "0065e236",
   "metadata": {},
   "outputs": [],
   "source": [
    "#@title\n",
    "fig = plt.figure(111,figsize=(15,9))\n",
    "\n",
    "with World2ScreenMPL(fig,\n",
    "                    fov = 340*u.deg,\n",
    "                    center=SkyCoord(0,0,unit='deg',frame='icrs'),\n",
    "                    coordsys='icrs',rotation=Angle(0, u.degree),\n",
    "                    projection='AIT') as wcs:\n",
    "    \n",
    "    ax = fig.add_subplot(1,1,1,projection=wcs)\n",
    "    \n",
    "    moc_jplusdr2.fill(ax=ax, wcs=wcs, alpha=0.5, fill=True,color='#ffa600')\n",
    "    moc_jplusdr2.border(ax=ax, wcs=wcs, alpha=0.8,color='#ffa600')\n",
    "\n",
    "ax.set_xlabel('RA',fontsize=16)\n",
    "ax.set_ylabel('DEC',fontsize=16)\n",
    "plt.title('J-PLUS DR2 sky coverage',fontsize=14)\n",
    "plt.grid(color='black',linestyle='dotted')\n",
    "\n",
    "plt.show()"
   ]
  },
  {
   "cell_type": "code",
   "execution_count": null,
   "id": "39101ae3",
   "metadata": {},
   "outputs": [],
   "source": [
    "inter = moc_sdssdr16.intersection(moc_jplusdr2)"
   ]
  },
  {
   "cell_type": "code",
   "execution_count": null,
   "id": "55f6b6d6",
   "metadata": {},
   "outputs": [],
   "source": [
    "fig = plt.figure(111,figsize=(15,9))\n",
    "\n",
    "with World2ScreenMPL(fig,\n",
    "                    fov = 260*u.deg,\n",
    "                    center=SkyCoord(0,0,unit='deg',frame='icrs'),\n",
    "                    coordsys='icrs',rotation=Angle(0, u.degree),\n",
    "                    projection='AIT') as wcs:\n",
    "    \n",
    "    ax = fig.add_subplot(1,1,1,projection=wcs)\n",
    "    \n",
    "    inter.fill(ax=ax, wcs=wcs, alpha=0.5, fill=True,color='#003f5c')\n",
    "    inter.border(ax=ax, wcs=wcs, alpha=0.8,color='#003f5c')      \n",
    "\n",
    "ax.set_xlabel('RA',fontsize=16)\n",
    "ax.set_ylabel('DEC',fontsize=16)\n",
    "plt.title('Intersection between SDSS DR16 and J-PLUS DR2',fontsize=14)\n",
    "plt.grid(color='black',linestyle='dotted')\n",
    "\n",
    "plt.show()"
   ]
  },
  {
   "cell_type": "code",
   "execution_count": null,
   "id": "35cb049e",
   "metadata": {},
   "outputs": [],
   "source": [
    "#@title\n",
    "union = moc_sdssdr16.union(moc_jplusdr2)\n",
    "\n",
    "fig = plt.figure(111,figsize=(15,9))\n",
    "\n",
    "with World2ScreenMPL(fig,\n",
    "                    fov = 260*u.deg,\n",
    "                    center=SkyCoord(0,0,unit='deg',frame='icrs'),\n",
    "                    coordsys='icrs',rotation=Angle(0, u.degree),\n",
    "                    projection='AIT') as wcs:\n",
    "    \n",
    "    ax = fig.add_subplot(1,1,1,projection=wcs)\n",
    "    \n",
    "    union.fill(ax=ax, wcs=wcs, alpha=0.5, fill=True,color='#ffa600')\n",
    "    union.border(ax=ax, wcs=wcs, alpha=0.8,color='#ffa600')      \n",
    "\n",
    "ax.set_xlabel('RA',fontsize=16)\n",
    "ax.set_ylabel('DEC',fontsize=16)\n",
    "plt.title('Union between SDSS DR16 and J-PLUS DR2',fontsize=14)\n",
    "plt.grid(color='black',linestyle='dotted')\n",
    "\n",
    "plt.show()\n",
    "\n",
    "warnings.filterwarnings(\"ignore\", category=DeprecationWarning)"
   ]
  },
  {
   "cell_type": "code",
   "execution_count": null,
   "id": "c8ab4a77",
   "metadata": {},
   "outputs": [],
   "source": []
  },
  {
   "cell_type": "markdown",
   "id": "6b84fe1c",
   "metadata": {},
   "source": [
    "## Real Data"
   ]
  },
  {
   "cell_type": "code",
   "execution_count": null,
   "id": "db8efa7c",
   "metadata": {},
   "outputs": [],
   "source": [
    "fig = plt.figure(111, figsize=(15,9))\n",
    "\n",
    "with World2ScreenMPL(fig, \n",
    "        fov=260* u.deg,\n",
    "        center=SkyCoord(0, 0, unit='deg', frame='icrs'),\n",
    "        coordsys=\"icrs\",\n",
    "        rotation=Angle(0, u.degree),\n",
    "        projection=\"AIT\") as wcs:\n",
    "    \n",
    "    ax = fig.add_subplot(1, 1, 1, projection=wcs)\n",
    "    \n",
    "    moc_sdssdr16.fill(ax=ax, wcs=wcs, alpha=0.15, fill=True, color='#003f5c',label='SDSS DR16')\n",
    "    moc_sdssdr16.border(ax=ax, wcs=wcs, alpha=0.4, color='#003f5c')\n",
    "    \n",
    "    moc_jplusdr2.fill(ax=ax, wcs=wcs, alpha=0.4, fill=True, color=\"#ffa600\",label='J-PLUS DR2')\n",
    "    moc_jplusdr2.border(ax=ax, wcs=wcs, alpha=0.6, color=\"#ffa600\")\n",
    "    \n",
    "    ax.scatter(coords.ra,coords.dec,marker='o',color='#003f5c',s=0.3,transform=ax.get_transform('world'))\n",
    "\n",
    "ax.legend(fontsize=15)\n",
    "ax.set_xlabel('RA',fontsize=16)\n",
    "ax.set_ylabel('DEC',fontsize=16)\n",
    "plt.grid(color=\"black\", ls='dotted')\n",
    "\n",
    "plt.show()\n",
    "\n",
    "warnings.filterwarnings(\"ignore\", category=DeprecationWarning)"
   ]
  },
  {
   "cell_type": "code",
   "execution_count": null,
   "id": "5685e093",
   "metadata": {
    "scrolled": true
   },
   "outputs": [],
   "source": [
    "fig = plt.figure(111, figsize=(15,11))\n",
    "\n",
    "with World2ScreenMPL(fig, \n",
    "        fov=30 * u.deg,\n",
    "        center=SkyCoord(273,41, unit='deg', frame='icrs'),\n",
    "        coordsys=\"icrs\",\n",
    "        rotation=Angle(0, u.degree),\n",
    "        projection=\"AIT\") as wcs:\n",
    "    \n",
    "    ax = fig.add_subplot(1, 1, 1, projection=wcs)\n",
    "    \n",
    "  #  moc_sdssdr16.fill(ax=ax, wcs=wcs, alpha=0.05, fill=True, color='#003f5c',label='SDSS DR16')\n",
    "   # moc_sdssdr16.border(ax=ax, wcs=wcs, alpha=0.5, color='#003f5c')\n",
    "    \n",
    "  #  moc_jplusdr2.fill(ax=ax, wcs=wcs, alpha=0.2, fill=True, color='#ffa600',label='J-PLUS DR2')\n",
    "   # moc_jplusdr2.border(ax=ax, wcs=wcs, alpha=1, color='#ffa600')\n",
    "    \n",
    "    ax.scatter(coords.ra,coords.dec,marker='o',color='#003f5c',s=10,transform=ax.get_transform('world'))\n",
    "\n",
    "ax.set_xlabel('RA',fontsize=14)\n",
    "ax.set_ylabel('DEC',fontsize=14)\n",
    "ax.legend(fontsize=18)\n",
    "plt.grid(color=\"black\", linestyle=\"dotted\")\n",
    "\n",
    "plt.show()\n",
    "\n",
    "warnings.filterwarnings(\"ignore\", category=DeprecationWarning)"
   ]
  },
  {
   "cell_type": "code",
   "execution_count": null,
   "id": "b2bcc1e0",
   "metadata": {},
   "outputs": [],
   "source": []
  },
  {
   "cell_type": "code",
   "execution_count": null,
   "id": "b0c5be86",
   "metadata": {},
   "outputs": [],
   "source": []
  },
  {
   "cell_type": "code",
   "execution_count": null,
   "id": "ec908263",
   "metadata": {},
   "outputs": [],
   "source": [
    "from astropy.visualization.wcsaxes.frame import EllipticalFrame\n"
   ]
  },
  {
   "cell_type": "code",
   "execution_count": null,
   "id": "c5c81b9d",
   "metadata": {
    "scrolled": false
   },
   "outputs": [],
   "source": [
    "for j in range(len(encoded_spectra)-1):\n",
    "    \n",
    "    #   Opening FITS and getting coordinates\n",
    "    target = files[j]\n",
    "    file2 = root+\"/\"+target\n",
    "\n",
    "    sp2 = fits.open(file2)\n",
    "#    print('\\n\\nHeader of the spectrum :\\n\\n', sp2[0].header, '\\n\\n')\n",
    "    ra_spectra = sp2[0].header['RA']\n",
    "    dec_spectra = sp2[0].header['DEC']\n",
    "    print(sp2[0].header['OBJECT'])   \n",
    "    sp2.close()\n",
    "#--------------------------------------            \n",
    "     #   Converting coordinates\n",
    "    try:\n",
    "        hours, minutes, seconds = ra_spectra.split(':')\n",
    "        ra_ok = f\"{hours}h{minutes}m{seconds}s\"\n",
    "        days, minutes, seconds = dec_spectra.split(':')\n",
    "        dec_ok = f\"{days}d{minutes}m{seconds}s\"\n",
    "        c = SkyCoord(ra_ok, dec_ok, frame='icrs')\n",
    "        ra_stelib.append(ra_ok)\n",
    "        dec_stelib.append(dec_ok)\n",
    "    except:\n",
    "        ra_ok = 0\n",
    "        dec_ok = 0\n",
    "#--------------------------------------     \n",
    "     #   Plotting star\n",
    "    objects = sp2[0].header['OBJECT']\n",
    "    \n",
    "    sp2.close() #closing FITS\n",
    "    try:\n",
    "        query_params = { \n",
    "                 'hips': 'DSS', \n",
    "                 'object': objects, \n",
    "                 'fov': (3 * u.arcmin).to(u.deg).value, \n",
    "                 'width': 800, \n",
    "                 'height': 350 \n",
    "                }                                                                                               \n",
    "        url = f'http://alasky.u-strasbg.fr/hips-image-services/hips2fits?{urlencode(query_params)}' \n",
    "        hdul = fits.open(url)\n",
    "        gc = aplpy.FITSFigure(hdul)                                                                     \n",
    "        gc.show_grayscale() \n",
    "        gc.save('Star.png', transparent=True)  \n",
    "    #---------------------------------------------Representing coordinates\n",
    "        fig3 = plt.figure(figsize=(16,8))\n",
    "\n",
    "# Load the Epoch 1 MOC file to use\n",
    "#epoch1_moc = mocs.load_pilot_epoch_moc('1')\n",
    "\n",
    "# \n",
    "        with World2ScreenMPL(\n",
    "            fig3,\n",
    "            fov=320 * u.deg,\n",
    "            center=SkyCoord(0, 0, unit='deg', frame='icrs'),\n",
    "            coordsys=\"icrs\",\n",
    "            rotation=Angle(0, u.degree),\n",
    "        ) as wcs:\n",
    "            ax = fig3.add_subplot(111, projection=wcs, frame_class=EllipticalFrame)\n",
    "            ax.set_title(\"STELIB library\", fontsize=18)\n",
    "            ax.grid(color=\"black\", linestyle=\"dotted\")\n",
    "        #    epoch1_moc.fill(ax=ax, wcs=wcs, alpha=0.5, fill=True, linewidth=0, color=\"#00bb00\")\n",
    "         #   epoch1_moc.border(ax=ax, wcs=wcs, alpha=0.5, color=\"black\")\n",
    "\n",
    "            ax.scatter(coords.ra,coords.dec\n",
    "                       ,marker='o',color='#1f82c0'\n",
    "                       ,s=18,transform=ax.get_transform('world'),zorder=10)\n",
    "    \n",
    "        \n",
    "            ax.scatter(c.ra.degree,c.dec.degree\n",
    "                       ,marker='o',color='red'\n",
    "                       ,s=82,transform=ax.get_transform('world'),zorder=10)\n",
    "        \n",
    "            plt.savefig('Sky.png', transparent=True)\n",
    "\n",
    "\n",
    "   \n",
    "     #-------------------------------------            \n",
    "        #    Sending OSC         \n",
    "        x[j] = encoded_spectra[j]*100000\n",
    "\n",
    "\n",
    "        client_s = udp_client.SimpleUDPClient(\"127.0.0.1\", 9989)\n",
    "        client_s.send_message(\"/s\", 1)\n",
    "\n",
    "        client0 = udp_client.SimpleUDPClient(\"127.0.0.1\", 9990)   \n",
    "        client0.send_message(\"/lat0\", x[j][0])\n",
    "        print(\"latent 0 =\", x[j][0])\n",
    "\n",
    "        client1 = udp_client.SimpleUDPClient(\"127.0.0.1\", 9991) \n",
    "        client1.send_message(\"/lat1\", x[j][1])\n",
    "        print(\"latent 1 =\", x[j][1])\n",
    "\n",
    "        client2 = udp_client.SimpleUDPClient(\"127.0.0.1\", 9992) \n",
    "        client2.send_message(\"/lat2\", x[j][2])\n",
    "        print(\"latent 2 =\", x[j][2])\n",
    "\n",
    "        client3 = udp_client.SimpleUDPClient(\"127.0.0.1\", 9993)\n",
    "        client3.send_message(\"/lat3\", x[j][3])\n",
    "        print(\"latent 3 =\", x[j][3])\n",
    "\n",
    "        client4 = udp_client.SimpleUDPClient(\"127.0.0.1\", 9994) \n",
    "        client4.send_message(\"/lat4\", x[j][4])\n",
    "        print(\"latent 4 =\", x[j][4])\n",
    "\n",
    "        client5 = udp_client.SimpleUDPClient(\"127.0.0.1\", 9995)\n",
    "        client5.send_message(\"/lat5\", x[j][5])\n",
    "        print(\"latent 5 =\", x[j][5])\n",
    "\n",
    "        client6 = udp_client.SimpleUDPClient(\"127.0.0.1\", 9996) \n",
    "        client6.send_message(\"/ra\", c.ra.degree)\n",
    "        print(\"ra =\", c.ra.degree)\n",
    "\n",
    "        client7 = udp_client.SimpleUDPClient(\"127.0.0.1\", 9997) \n",
    "        client7.send_message(\"/dec\", c.dec.degree)\n",
    "        print(\"dec =\", c.dec.degree)\n",
    "        \n",
    "        print(\"Rsquared:\", r2_score(custom_set[j], decoded_spectra[j], multioutput='variance_weighted'))\n",
    "\n",
    "        time.sleep(3.5)\n",
    "\n",
    "        #client0.send_message(\"/lat0\", 0)\n",
    "        #client1.send_message(\"/lat1\", 0)\n",
    "        #client2.send_message(\"/lat2\", 0)\n",
    "        #client3.send_message(\"/lat3\",0)\n",
    "        #client4.send_message(\"/lat4\", 0)\n",
    "        #client5.send_message(\"/lat5\", 0)\n",
    "        #client6.send_message(\"/ra\", 0)\n",
    "        #client7.send_message(\"/dec\", 0)  \n",
    "\n",
    "       # time.sleep(2)\n",
    "        client_s.send_message(\"/s\", 0)\n",
    "        #   Plotting spectra                             \n",
    "        fig, ax = plt.subplots(1, 2, figsize=(16, 6))\n",
    "        ax[0].plot(wave2, custom_set[j])\n",
    "        ax[0].set_xlabel('Original Spectrum [Å]')\n",
    "        ax[0].set_ylabel('ADU')\n",
    "        plt.title(sp2[0].header['OBJECT'],fontsize=14)\n",
    "\n",
    "        \n",
    "        ax[1].plot(wave2, decoded_spectra[j])\n",
    "        ax[1].set_xlabel('Decoded Spectrum [Å]')\n",
    "        ax[1].set_ylabel('ADU')\n",
    "       \n",
    "    \n",
    "        plt.savefig('VAE_result.png', transparent=True)\n",
    "    except:\n",
    "        client_s = udp_client.SimpleUDPClient(\"127.0.0.1\", 9989)\n",
    "        client_s.send_message(\"/s\", 0)"
   ]
  }
 ],
 "metadata": {
  "kernelspec": {
   "display_name": "Python 3 (ipykernel)",
   "language": "python",
   "name": "python3"
  },
  "language_info": {
   "codemirror_mode": {
    "name": "ipython",
    "version": 3
   },
   "file_extension": ".py",
   "mimetype": "text/x-python",
   "name": "python",
   "nbconvert_exporter": "python",
   "pygments_lexer": "ipython3",
   "version": "3.8.5"
  }
 },
 "nbformat": 4,
 "nbformat_minor": 5
}
